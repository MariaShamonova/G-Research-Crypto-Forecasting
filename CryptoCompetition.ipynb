{
  "nbformat": 4,
  "nbformat_minor": 0,
  "metadata": {
    "colab": {
      "name": "CryptoCompetition.ipynb",
      "provenance": [],
      "collapsed_sections": []
    },
    "kernelspec": {
      "name": "python3",
      "display_name": "Python 3"
    },
    "language_info": {
      "name": "python"
    }
  },
  "cells": [
    {
      "cell_type": "code",
      "execution_count": 2,
      "metadata": {
        "id": "WisHhjG8wJ5k"
      },
      "outputs": [],
      "source": [
        "import pandas as pd\n",
        "import numpy as np\n",
        "from datetime import datetime\n",
        "import plotly.graph_objects as go"
      ]
    },
    {
      "cell_type": "code",
      "source": [
        "from google.colab import drive\n",
        "drive.mount('/content/drive')"
      ],
      "metadata": {
        "colab": {
          "base_uri": "https://localhost:8080/"
        },
        "id": "UFdpRPncEB57",
        "outputId": "d2c597d8-309f-49cd-8141-ffc5205e4d76"
      },
      "execution_count": 3,
      "outputs": [
        {
          "output_type": "stream",
          "name": "stdout",
          "text": [
            "Drive already mounted at /content/drive; to attempt to forcibly remount, call drive.mount(\"/content/drive\", force_remount=True).\n"
          ]
        }
      ]
    },
    {
      "cell_type": "code",
      "source": [
        "data = pd.read_csv('/content/drive/MyDrive/train.csv.zip').set_index('timestamp')"
      ],
      "metadata": {
        "id": "lCh-KLJOEOVt"
      },
      "execution_count": 4,
      "outputs": []
    },
    {
      "cell_type": "code",
      "source": [
        "btc = data[data[\"Asset_ID\"]==1]\n",
        "\n",
        "btc_mini = btc.iloc[-200:] \n",
        "\n",
        "fig = go.Figure(data=[go.Candlestick(x=btc_mini.index, \n",
        "                                     open=btc_mini['Open'], \n",
        "                                     high=btc_mini['High'], \n",
        "                                     low=btc_mini['Low'], \n",
        "                                     close=btc_mini['Close'])])\n",
        "fig.show()\n"
      ],
      "metadata": {
        "colab": {
          "base_uri": "https://localhost:8080/",
          "height": 542
        },
        "id": "cFffAzGYpsX2",
        "outputId": "77c74df2-2080-4bb9-870c-c713731634f4"
      },
      "execution_count": 50,
      "outputs": [
        {
          "output_type": "display_data",
          "data": {
            "text/html": [
              "<html>\n",
              "<head><meta charset=\"utf-8\" /></head>\n",
              "<body>\n",
              "    <div>            <script src=\"https://cdnjs.cloudflare.com/ajax/libs/mathjax/2.7.5/MathJax.js?config=TeX-AMS-MML_SVG\"></script><script type=\"text/javascript\">if (window.MathJax) {MathJax.Hub.Config({SVG: {font: \"STIX-Web\"}});}</script>                <script type=\"text/javascript\">window.PlotlyConfig = {MathJaxConfig: 'local'};</script>\n",
              "        <script src=\"https://cdn.plot.ly/plotly-2.8.3.min.js\"></script>                <div id=\"f6f9a4d5-071e-4980-b485-e2932fcc2614\" class=\"plotly-graph-div\" style=\"height:525px; width:100%;\"></div>            <script type=\"text/javascript\">                                    window.PLOTLYENV=window.PLOTLYENV || {};                                    if (document.getElementById(\"f6f9a4d5-071e-4980-b485-e2932fcc2614\")) {                    Plotly.newPlot(                        \"f6f9a4d5-071e-4980-b485-e2932fcc2614\",                        [{\"close\":[43447.00375,43440.0,43360.72375,43427.24285714286,43375.04,43391.2775,43328.33142857143,43333.292857142864,43272.20571428572,43302.26142857143,43237.22857142857,43293.438571428575,43335.397142857146,43329.36,43315.57857142857,43358.98,43401.56125,43496.01714285714,43543.944285714286,43735.24749999998,43635.8,43565.93714285714,43445.9742505125,43582.882500000014,43509.89375,43583.13375,43620.45625000002,43683.955,43688.792857142864,43748.37285714286,43733.61857142858,43770.91142857143,43725.21247342,43699.93519433285,43681.41125,43663.37142857142,43674.12714285714,43735.2968762825,43761.40857142857,43804.98142857143,43748.64871729857,43754.64400535857,43761.9313146925,43745.054649555714,43749.41395637714,43704.05428571429,43754.37857142858,43752.16000000002,43752.56428571429,43742.16285714285,43722.25010413143,43698.399835418575,43678.80153424286,43688.29428571429,43673.78428571428,43674.93714285714,43696.93209772,43696.218571428566,43688.90142857142,43680.15714285715,43699.02571428572,43731.86428571429,43747.49428571429,43762.66571428572,43851.00774273375,43796.60571428571,43767.107142857145,43685.150000000016,43691.55,43724.642857142855,43737.69285714287,43651.975714285705,43596.42285714286,43623.89428571428,43635.89571428572,43561.85142857144,43536.07792585572,43480.374285714286,43514.82,43608.34571428572,43568.90142857143,43554.05285714286,43631.01714285714,43631.90714285714,43537.49,43597.75303396001,43648.514285714286,43697.334285714285,43707.43,43726.24681658715,43765.792857142864,43715.65571428572,43715.125714285714,43710.31428571429,43731.00625,43770.145714285725,43814.85571428571,43816.27125000001,43806.570000000014,43806.79142857143,43770.66857142857,43799.1,43833.474285714285,43811.704285714295,43843.44,43832.01571428571,43786.38571428572,43769.188571428575,43774.467142857146,43796.19,43797.20571428572,43798.15714285714,43804.61142857144,43831.59142857143,43871.69625,43897.16857142858,43901.38285714285,43883.25895342144,43862.52,43894.77857142857,43866.73499999999,43845.84857142857,43823.298571428575,43752.76714285714,43703.374285714286,43669.07857142857,43642.77285714285,43615.38,43504.42428571429,43367.88571428572,43316.7225,43295.04428571429,43250.16571428572,43075.9025,43232.90125,43259.1575,43293.7075,43305.09857142857,43327.79,43356.28068103,43344.55857142858,43484.61375,43580.82375,43470.794999999984,43198.788571428566,43213.69,43269.54714285715,43239.26125,43114.23614144125,43067.63,43060.81,42991.2775,42989.62375,43219.33125,43140.19135458125,43198.24000000001,43110.797500000015,43157.72298172143,43099.1575,43051.08285714287,42966.91285714286,43009.43142857143,42880.67875,42822.040000000015,42699.178750000014,42778.885,42779.71,42700.44625,42659.58241635572,42600.39625,42624.279999999984,42577.0,42679.60625,42678.21816655625,42762.514285714286,42825.295,42736.6525,42769.39571428571,42637.115,42703.63625,42781.97057111125,42755.5925,42717.23428571428,42657.20249999999,42678.72142857143,42778.29125,42790.17571428571,42731.73142857143,42898.565,42939.64571428572,42927.167142857135,42979.83375,42960.60142857144,42985.48285714286,42985.21482412572,42899.01285714287,42860.00571428572,42827.02,43017.277142857136,43002.505],\"high\":[43588.68,43495.95402838,43455.2184781,43454.99,43467.0,43405.0,43407.7,43350.0,43344.99,43315.99,43317.0,43318.8,43353.43,43363.82,43341.56,43372.8,43436.99,43512.7,43581.88,43750.27,43749.6,43636.4,43587.1,43609.1,43617.0,43611.11,43634.01,43715.6675949,43707.74,43763.7,43766.35,43798.21,43780.0,43726.0,43731.0,43702.91,43684.24,43773.35,43784.1,43818.17,43810.0,43766.0,43790.0,43774.0,43760.01,43763.66,43773.4,43768.62,43776.0,43768.53,43750.0,43746.7,43708.0,43701.5,43701.5,43689.0,43716.49468404,43709.0,43703.62,43723.37,43708.47,43754.58,43757.98,43776.38,43882.75,43913.83,43813.0,43788.8,43704.19,43738.0,43746.19,43747.0,43672.0,43639.5,43651.0,43647.45,43582.0,43550.99,43524.0,43618.15,43652.3,43587.51,43654.6,43682.6,43646.0,43614.93123772,43660.09,43708.05,43744.4,43776.1,43785.75,43779.05,43756.0,43782.7,43777.2,43782.74,43830.0,43835.6,43835.5,43833.6,43867.04,43805.3,43861.08,43848.1,43860.78,43866.41,43840.14,43808.31,43800.0,43812.4,43818.6,43818.4,43821.1,43840.7,43910.99,43912.1,43940.0,43912.0,43908.5,43906.71,43906.73,43874.98,43851.4,43843.87,43782.1,43721.3,43699.8,43679.99,43633.3,43560.02,43417.91,43354.59,43359.44,43259.3,43281.0,43301.61947119,43320.02,43348.22,43366.0,43391.85,43376.0,43546.61,43640.0,43627.0,43455.0,43276.57,43366.0,43288.47,43287.5,43133.15,43099.98,43072.2,43069.67,43289.9,43350.5,43229.1,43247.5,43193.54,43172.9,43122.0,43082.02,43029.49,43015.0,42897.0,42884.85,42836.33,42811.0,42852.0,42719.98,42779.1,42703.01,42650.0,42705.0,42802.54,42862.0,42877.82,42846.0,42833.9,42841.99,42736.9,42819.38,42827.1,42811.3,42752.0,42715.99,42810.26,42828.0,42827.7,42937.31,42966.98,42971.95,43014.98,43005.65,43008.85,43006.54,43001.85084871,42932.0,42887.5,43042.16,43048.51],\"low\":[43427.28,43414.33,43327.29,43348.06,43351.15,43280.0,43284.12,43283.74,43240.01,43261.26,43217.6,43207.55,43268.05,43278.42,43272.19,43287.88,43350.2,43387.95,43487.66,43527.56,43600.0,43538.26,43426.2,43431.57,43436.46,43476.65,43525.5,43585.4,43647.65,43676.9,43702.98,43709.75,43706.19,43683.73,43669.67,43638.92,43631.17,43662.11,43729.9,43730.0,43732.41,43725.22,43739.3,43722.3,43717.71,43686.54,43695.18,43733.8,43729.06,43730.17,43705.92,43691.2,43665.84,43657.79,43663.42,43658.2,43663.48,43669.1,43669.1,43659.05,43669.2,43677.4,43718.9,43742.1,43754.67,43790.01,43750.89,43672.6,43669.13,43683.08,43689.3,43641.65,43584.69,43583.4,43608.15,43522.0,43504.1,43464.86,43462.56,43499.99,43548.51,43538.67,43534.0,43616.54,43521.92,43514.09,43593.43,43644.1,43682.67,43688.1,43712.74,43701.41,43700.0,43665.29,43678.37,43718.44,43758.4,43763.01,43772.0,43772.75,43741.3,43760.3,43788.96,43788.53,43780.41,43816.96,43762.7,43742.7,43750.0,43759.23,43766.7,43757.17,43782.18,43795.58,43823.74,43842.5,43875.72,43866.3,43847.0,43835.66,43850.16,43832.56,43813.11,43746.0,43687.0,43650.01,43627.29,43600.0,43499.99,43350.4,43295.74,43278.42,43221.04,43003.84,43067.0,43172.38,43172.0,43220.67,43261.3,43333.51,43283.1,43335.64,43441.56,43428.8,43172.9,43133.08,43209.9,43218.81,43062.9,43050.9,43019.49,42930.14,42967.33,42969.79,43106.01,43026.47,43092.88,43064.36,43058.56,43007.67,42898.8,42900.0,42801.0,42795.45,42659.29112887,42660.05,42651.4,42672.8,42640.0,42575.0,42579.4,42515.09,42548.09,42626.61,42660.7,42743.68,42688.55,42731.17,42600.0,42607.5,42690.84,42690.75,42694.37,42636.76,42630.17,42662.27,42742.36,42713.48,42713.48,42852.07,42899.1,42907.18,42929.74,42953.1,42958.06,42878.26,42840.16,42797.2,42818.1,42961.64],\"open\":[43558.39375,43449.81857142858,43427.0823097625,43362.572857142855,43419.8325,43368.71625,43393.847142857136,43329.654285714285,43335.71432474571,43275.938571428575,43301.834285714285,43232.93714285714,43297.98428571429,43336.64,43333.63142857143,43314.74000000001,43364.94875,43408.08714285715,43504.69050787143,43563.5475,43734.17517274572,43622.09142833857,43556.59375,43455.175,43574.825,43520.28,43576.7775,43622.23555296,43692.88857142858,43693.87714285714,43746.07428571429,43732.60428571428,43769.21714285714,43713.06428571429,43696.00375,43671.81428571429,43658.32428571429,43678.86,43747.11558816286,43763.66857142857,43801.88285714287,43743.70142857143,43760.135,43757.962857142855,43746.89571428572,43752.36571428572,43706.63459625,43754.938571428575,43751.42502128715,43747.71428571428,43741.16142857143,43718.720000000016,43697.06571428572,43678.72571428572,43687.59428571429,43674.66142857143,43674.23,43699.485714285714,43693.75714285714,43686.042857142864,43680.84285714286,43703.04380334572,43737.424990827145,43748.792857142864,43764.222193155,43867.28649138286,43796.17000235,43764.80711541429,43683.29195864715,43694.014285714286,43724.80857142858,43734.218571428566,43648.50714285714,43595.79378934143,43622.90857142857,43635.26571428571,43561.49245584857,43540.261460078575,43481.81571428572,43514.376468365714,43617.79142857143,43571.87298438429,43552.88571428572,43628.438571428575,43627.27428571428,43537.74857142858,43605.25142857143,43650.830000000016,43700.829614364295,43709.82420531143,43729.398571428566,43758.39428571429,43711.38000000001,43711.45285714285,43709.3575,43745.652857142864,43771.43571428571,43811.9775,43826.62833333333,43809.957142857136,43813.72,43780.97162221715,43805.69142857142,43832.400000000016,43801.23428571429,43846.09142857143,43828.874285714286,43786.38571428572,43771.014285714286,43774.80714285715,43798.41857142857,43794.84032981571,43807.66285714285,43807.34428571429,43836.9875,43872.08714285714,43900.88857142856,43901.008571428574,43890.30857142857,43858.474285714285,43893.88166666668,43866.00571428572,43843.235714285714,43821.555714285714,43752.37,43704.62857142857,43671.72,43644.06142857143,43610.07408044428,43504.71428571428,43365.91375,43313.70812588,43296.055714285714,43239.0175,43092.85375,43251.94250000001,43264.50125,43307.44571428571,43296.88375,43341.862857142856,43353.12,43365.74875000001,43477.0875,43588.102500000015,43447.60285714286,43205.55625,43234.95285714286,43267.83,43229.50125,43106.66925542,43064.47714285714,43054.81000000001,43002.9225,42998.535,43227.1275,43122.16,43192.76624999999,43106.25997366144,43159.91625,43085.22049047715,43049.56714285714,42972.15714285714,42979.09125000001,42873.23000000002,42815.11375,42707.930000000015,42766.4325,42775.73125,42694.57285714285,42675.71750000001,42599.647142857146,42620.29375,42577.715,42683.24375,42673.72571428572,42768.39625000001,42819.91125,42750.58285714287,42760.10875,42632.465,42718.815,42772.92125,42762.29,42703.80250000001,42655.528483642855,42688.935,42790.287142857145,42792.855714285724,42745.15375,42896.17428571428,42937.78428571428,42933.25490686,42974.10869267286,42971.347142857136,42982.91571428572,42983.779999999984,42904.19714285714,42859.38571428572,42839.01280218857,43009.96125],\"x\":[1632170460,1632170520,1632170580,1632170640,1632170700,1632170760,1632170820,1632170880,1632170940,1632171000,1632171060,1632171120,1632171180,1632171240,1632171300,1632171360,1632171420,1632171480,1632171540,1632171600,1632171660,1632171720,1632171780,1632171840,1632171900,1632171960,1632172020,1632172080,1632172140,1632172200,1632172260,1632172320,1632172380,1632172440,1632172500,1632172560,1632172620,1632172680,1632172740,1632172800,1632172860,1632172920,1632172980,1632173040,1632173100,1632173160,1632173220,1632173280,1632173340,1632173400,1632173460,1632173520,1632173580,1632173640,1632173700,1632173760,1632173820,1632173880,1632173940,1632174000,1632174060,1632174120,1632174180,1632174240,1632174300,1632174360,1632174420,1632174480,1632174540,1632174600,1632174660,1632174720,1632174780,1632174840,1632174900,1632174960,1632175020,1632175080,1632175140,1632175200,1632175260,1632175320,1632175380,1632175440,1632175500,1632175560,1632175620,1632175680,1632175740,1632175800,1632175860,1632175920,1632175980,1632176040,1632176100,1632176160,1632176220,1632176280,1632176340,1632176400,1632176460,1632176520,1632176580,1632176640,1632176700,1632176760,1632176820,1632176880,1632176940,1632177000,1632177060,1632177120,1632177180,1632177240,1632177300,1632177360,1632177420,1632177480,1632177540,1632177600,1632177660,1632177720,1632177780,1632177840,1632177900,1632177960,1632178020,1632178080,1632178140,1632178200,1632178260,1632178320,1632178380,1632178440,1632178500,1632178560,1632178620,1632178680,1632178740,1632178800,1632178860,1632178920,1632178980,1632179040,1632179100,1632179160,1632179220,1632179280,1632179340,1632179400,1632179460,1632179520,1632179580,1632179640,1632179700,1632179760,1632179820,1632179880,1632179940,1632180000,1632180060,1632180120,1632180180,1632180240,1632180300,1632180360,1632180420,1632180480,1632180540,1632180600,1632180660,1632180720,1632180780,1632180840,1632180900,1632180960,1632181020,1632181080,1632181140,1632181200,1632181260,1632181320,1632181380,1632181440,1632181500,1632181560,1632181620,1632181680,1632181740,1632181800,1632181860,1632181920,1632181980,1632182040,1632182100,1632182160,1632182220,1632182280,1632182340,1632182400],\"type\":\"candlestick\"}],                        {\"template\":{\"data\":{\"bar\":[{\"error_x\":{\"color\":\"#2a3f5f\"},\"error_y\":{\"color\":\"#2a3f5f\"},\"marker\":{\"line\":{\"color\":\"#E5ECF6\",\"width\":0.5},\"pattern\":{\"fillmode\":\"overlay\",\"size\":10,\"solidity\":0.2}},\"type\":\"bar\"}],\"barpolar\":[{\"marker\":{\"line\":{\"color\":\"#E5ECF6\",\"width\":0.5},\"pattern\":{\"fillmode\":\"overlay\",\"size\":10,\"solidity\":0.2}},\"type\":\"barpolar\"}],\"carpet\":[{\"aaxis\":{\"endlinecolor\":\"#2a3f5f\",\"gridcolor\":\"white\",\"linecolor\":\"white\",\"minorgridcolor\":\"white\",\"startlinecolor\":\"#2a3f5f\"},\"baxis\":{\"endlinecolor\":\"#2a3f5f\",\"gridcolor\":\"white\",\"linecolor\":\"white\",\"minorgridcolor\":\"white\",\"startlinecolor\":\"#2a3f5f\"},\"type\":\"carpet\"}],\"choropleth\":[{\"colorbar\":{\"outlinewidth\":0,\"ticks\":\"\"},\"type\":\"choropleth\"}],\"contour\":[{\"colorbar\":{\"outlinewidth\":0,\"ticks\":\"\"},\"colorscale\":[[0.0,\"#0d0887\"],[0.1111111111111111,\"#46039f\"],[0.2222222222222222,\"#7201a8\"],[0.3333333333333333,\"#9c179e\"],[0.4444444444444444,\"#bd3786\"],[0.5555555555555556,\"#d8576b\"],[0.6666666666666666,\"#ed7953\"],[0.7777777777777778,\"#fb9f3a\"],[0.8888888888888888,\"#fdca26\"],[1.0,\"#f0f921\"]],\"type\":\"contour\"}],\"contourcarpet\":[{\"colorbar\":{\"outlinewidth\":0,\"ticks\":\"\"},\"type\":\"contourcarpet\"}],\"heatmap\":[{\"colorbar\":{\"outlinewidth\":0,\"ticks\":\"\"},\"colorscale\":[[0.0,\"#0d0887\"],[0.1111111111111111,\"#46039f\"],[0.2222222222222222,\"#7201a8\"],[0.3333333333333333,\"#9c179e\"],[0.4444444444444444,\"#bd3786\"],[0.5555555555555556,\"#d8576b\"],[0.6666666666666666,\"#ed7953\"],[0.7777777777777778,\"#fb9f3a\"],[0.8888888888888888,\"#fdca26\"],[1.0,\"#f0f921\"]],\"type\":\"heatmap\"}],\"heatmapgl\":[{\"colorbar\":{\"outlinewidth\":0,\"ticks\":\"\"},\"colorscale\":[[0.0,\"#0d0887\"],[0.1111111111111111,\"#46039f\"],[0.2222222222222222,\"#7201a8\"],[0.3333333333333333,\"#9c179e\"],[0.4444444444444444,\"#bd3786\"],[0.5555555555555556,\"#d8576b\"],[0.6666666666666666,\"#ed7953\"],[0.7777777777777778,\"#fb9f3a\"],[0.8888888888888888,\"#fdca26\"],[1.0,\"#f0f921\"]],\"type\":\"heatmapgl\"}],\"histogram\":[{\"marker\":{\"pattern\":{\"fillmode\":\"overlay\",\"size\":10,\"solidity\":0.2}},\"type\":\"histogram\"}],\"histogram2d\":[{\"colorbar\":{\"outlinewidth\":0,\"ticks\":\"\"},\"colorscale\":[[0.0,\"#0d0887\"],[0.1111111111111111,\"#46039f\"],[0.2222222222222222,\"#7201a8\"],[0.3333333333333333,\"#9c179e\"],[0.4444444444444444,\"#bd3786\"],[0.5555555555555556,\"#d8576b\"],[0.6666666666666666,\"#ed7953\"],[0.7777777777777778,\"#fb9f3a\"],[0.8888888888888888,\"#fdca26\"],[1.0,\"#f0f921\"]],\"type\":\"histogram2d\"}],\"histogram2dcontour\":[{\"colorbar\":{\"outlinewidth\":0,\"ticks\":\"\"},\"colorscale\":[[0.0,\"#0d0887\"],[0.1111111111111111,\"#46039f\"],[0.2222222222222222,\"#7201a8\"],[0.3333333333333333,\"#9c179e\"],[0.4444444444444444,\"#bd3786\"],[0.5555555555555556,\"#d8576b\"],[0.6666666666666666,\"#ed7953\"],[0.7777777777777778,\"#fb9f3a\"],[0.8888888888888888,\"#fdca26\"],[1.0,\"#f0f921\"]],\"type\":\"histogram2dcontour\"}],\"mesh3d\":[{\"colorbar\":{\"outlinewidth\":0,\"ticks\":\"\"},\"type\":\"mesh3d\"}],\"parcoords\":[{\"line\":{\"colorbar\":{\"outlinewidth\":0,\"ticks\":\"\"}},\"type\":\"parcoords\"}],\"pie\":[{\"automargin\":true,\"type\":\"pie\"}],\"scatter\":[{\"marker\":{\"colorbar\":{\"outlinewidth\":0,\"ticks\":\"\"}},\"type\":\"scatter\"}],\"scatter3d\":[{\"line\":{\"colorbar\":{\"outlinewidth\":0,\"ticks\":\"\"}},\"marker\":{\"colorbar\":{\"outlinewidth\":0,\"ticks\":\"\"}},\"type\":\"scatter3d\"}],\"scattercarpet\":[{\"marker\":{\"colorbar\":{\"outlinewidth\":0,\"ticks\":\"\"}},\"type\":\"scattercarpet\"}],\"scattergeo\":[{\"marker\":{\"colorbar\":{\"outlinewidth\":0,\"ticks\":\"\"}},\"type\":\"scattergeo\"}],\"scattergl\":[{\"marker\":{\"colorbar\":{\"outlinewidth\":0,\"ticks\":\"\"}},\"type\":\"scattergl\"}],\"scattermapbox\":[{\"marker\":{\"colorbar\":{\"outlinewidth\":0,\"ticks\":\"\"}},\"type\":\"scattermapbox\"}],\"scatterpolar\":[{\"marker\":{\"colorbar\":{\"outlinewidth\":0,\"ticks\":\"\"}},\"type\":\"scatterpolar\"}],\"scatterpolargl\":[{\"marker\":{\"colorbar\":{\"outlinewidth\":0,\"ticks\":\"\"}},\"type\":\"scatterpolargl\"}],\"scatterternary\":[{\"marker\":{\"colorbar\":{\"outlinewidth\":0,\"ticks\":\"\"}},\"type\":\"scatterternary\"}],\"surface\":[{\"colorbar\":{\"outlinewidth\":0,\"ticks\":\"\"},\"colorscale\":[[0.0,\"#0d0887\"],[0.1111111111111111,\"#46039f\"],[0.2222222222222222,\"#7201a8\"],[0.3333333333333333,\"#9c179e\"],[0.4444444444444444,\"#bd3786\"],[0.5555555555555556,\"#d8576b\"],[0.6666666666666666,\"#ed7953\"],[0.7777777777777778,\"#fb9f3a\"],[0.8888888888888888,\"#fdca26\"],[1.0,\"#f0f921\"]],\"type\":\"surface\"}],\"table\":[{\"cells\":{\"fill\":{\"color\":\"#EBF0F8\"},\"line\":{\"color\":\"white\"}},\"header\":{\"fill\":{\"color\":\"#C8D4E3\"},\"line\":{\"color\":\"white\"}},\"type\":\"table\"}]},\"layout\":{\"annotationdefaults\":{\"arrowcolor\":\"#2a3f5f\",\"arrowhead\":0,\"arrowwidth\":1},\"autotypenumbers\":\"strict\",\"coloraxis\":{\"colorbar\":{\"outlinewidth\":0,\"ticks\":\"\"}},\"colorscale\":{\"diverging\":[[0,\"#8e0152\"],[0.1,\"#c51b7d\"],[0.2,\"#de77ae\"],[0.3,\"#f1b6da\"],[0.4,\"#fde0ef\"],[0.5,\"#f7f7f7\"],[0.6,\"#e6f5d0\"],[0.7,\"#b8e186\"],[0.8,\"#7fbc41\"],[0.9,\"#4d9221\"],[1,\"#276419\"]],\"sequential\":[[0.0,\"#0d0887\"],[0.1111111111111111,\"#46039f\"],[0.2222222222222222,\"#7201a8\"],[0.3333333333333333,\"#9c179e\"],[0.4444444444444444,\"#bd3786\"],[0.5555555555555556,\"#d8576b\"],[0.6666666666666666,\"#ed7953\"],[0.7777777777777778,\"#fb9f3a\"],[0.8888888888888888,\"#fdca26\"],[1.0,\"#f0f921\"]],\"sequentialminus\":[[0.0,\"#0d0887\"],[0.1111111111111111,\"#46039f\"],[0.2222222222222222,\"#7201a8\"],[0.3333333333333333,\"#9c179e\"],[0.4444444444444444,\"#bd3786\"],[0.5555555555555556,\"#d8576b\"],[0.6666666666666666,\"#ed7953\"],[0.7777777777777778,\"#fb9f3a\"],[0.8888888888888888,\"#fdca26\"],[1.0,\"#f0f921\"]]},\"colorway\":[\"#636efa\",\"#EF553B\",\"#00cc96\",\"#ab63fa\",\"#FFA15A\",\"#19d3f3\",\"#FF6692\",\"#B6E880\",\"#FF97FF\",\"#FECB52\"],\"font\":{\"color\":\"#2a3f5f\"},\"geo\":{\"bgcolor\":\"white\",\"lakecolor\":\"white\",\"landcolor\":\"#E5ECF6\",\"showlakes\":true,\"showland\":true,\"subunitcolor\":\"white\"},\"hoverlabel\":{\"align\":\"left\"},\"hovermode\":\"closest\",\"mapbox\":{\"style\":\"light\"},\"paper_bgcolor\":\"white\",\"plot_bgcolor\":\"#E5ECF6\",\"polar\":{\"angularaxis\":{\"gridcolor\":\"white\",\"linecolor\":\"white\",\"ticks\":\"\"},\"bgcolor\":\"#E5ECF6\",\"radialaxis\":{\"gridcolor\":\"white\",\"linecolor\":\"white\",\"ticks\":\"\"}},\"scene\":{\"xaxis\":{\"backgroundcolor\":\"#E5ECF6\",\"gridcolor\":\"white\",\"gridwidth\":2,\"linecolor\":\"white\",\"showbackground\":true,\"ticks\":\"\",\"zerolinecolor\":\"white\"},\"yaxis\":{\"backgroundcolor\":\"#E5ECF6\",\"gridcolor\":\"white\",\"gridwidth\":2,\"linecolor\":\"white\",\"showbackground\":true,\"ticks\":\"\",\"zerolinecolor\":\"white\"},\"zaxis\":{\"backgroundcolor\":\"#E5ECF6\",\"gridcolor\":\"white\",\"gridwidth\":2,\"linecolor\":\"white\",\"showbackground\":true,\"ticks\":\"\",\"zerolinecolor\":\"white\"}},\"shapedefaults\":{\"line\":{\"color\":\"#2a3f5f\"}},\"ternary\":{\"aaxis\":{\"gridcolor\":\"white\",\"linecolor\":\"white\",\"ticks\":\"\"},\"baxis\":{\"gridcolor\":\"white\",\"linecolor\":\"white\",\"ticks\":\"\"},\"bgcolor\":\"#E5ECF6\",\"caxis\":{\"gridcolor\":\"white\",\"linecolor\":\"white\",\"ticks\":\"\"}},\"title\":{\"x\":0.05},\"xaxis\":{\"automargin\":true,\"gridcolor\":\"white\",\"linecolor\":\"white\",\"ticks\":\"\",\"title\":{\"standoff\":15},\"zerolinecolor\":\"white\",\"zerolinewidth\":2},\"yaxis\":{\"automargin\":true,\"gridcolor\":\"white\",\"linecolor\":\"white\",\"ticks\":\"\",\"title\":{\"standoff\":15},\"zerolinecolor\":\"white\",\"zerolinewidth\":2}}}},                        {\"responsive\": true}                    ).then(function(){\n",
              "                            \n",
              "var gd = document.getElementById('f6f9a4d5-071e-4980-b485-e2932fcc2614');\n",
              "var x = new MutationObserver(function (mutations, observer) {{\n",
              "        var display = window.getComputedStyle(gd).display;\n",
              "        if (!display || display === 'none') {{\n",
              "            console.log([gd, 'removed!']);\n",
              "            Plotly.purge(gd);\n",
              "            observer.disconnect();\n",
              "        }}\n",
              "}});\n",
              "\n",
              "// Listen for the removal of the full notebook cells\n",
              "var notebookContainer = gd.closest('#notebook-container');\n",
              "if (notebookContainer) {{\n",
              "    x.observe(notebookContainer, {childList: true});\n",
              "}}\n",
              "\n",
              "// Listen for the clearing of the current output cell\n",
              "var outputEl = gd.closest('.output');\n",
              "if (outputEl) {{\n",
              "    x.observe(outputEl, {childList: true});\n",
              "}}\n",
              "\n",
              "                        })                };                            </script>        </div>\n",
              "</body>\n",
              "</html>"
            ]
          },
          "metadata": {}
        }
      ]
    },
    {
      "cell_type": "code",
      "source": [
        "(btc.index[1:]-btc.index[:-1]).value_counts().head()"
      ],
      "metadata": {
        "colab": {
          "base_uri": "https://localhost:8080/"
        },
        "id": "ri4LpZUXvP_E",
        "outputId": "7db11415-60cd-4450-a482-b5fbcbda17ed"
      },
      "execution_count": 52,
      "outputs": [
        {
          "output_type": "execute_result",
          "data": {
            "text/plain": [
              "60     1956136\n",
              "120         78\n",
              "180         12\n",
              "240         11\n",
              "420          9\n",
              "Name: timestamp, dtype: int64"
            ]
          },
          "metadata": {},
          "execution_count": 52
        }
      ]
    },
    {
      "cell_type": "code",
      "source": [
        "btc = btc.reindex(range(btc.index[0],btc.index[-1]+60,60),method='pad')\n",
        "(btc.index[1:]-btc.index[:-1]).value_counts().head()"
      ],
      "metadata": {
        "colab": {
          "base_uri": "https://localhost:8080/"
        },
        "id": "S_N600OaHg59",
        "outputId": "c6ca14b7-98d9-4a62-f02a-1fde1996b2d8"
      },
      "execution_count": 85,
      "outputs": [
        {
          "output_type": "execute_result",
          "data": {
            "text/plain": [
              "60    1956959\n",
              "Name: timestamp, dtype: int64"
            ]
          },
          "metadata": {},
          "execution_count": 85
        }
      ]
    },
    {
      "cell_type": "code",
      "source": [
        "def log_return(series, periods=1):\n",
        "    return np.log(series).diff(periods=periods)"
      ],
      "metadata": {
        "id": "7EhvaateURhu"
      },
      "execution_count": 56,
      "outputs": []
    },
    {
      "cell_type": "code",
      "source": [
        "def totimestamp(date): \n",
        "  return datetime.strptime(date, '%d/%m/%Y').timestamp()"
      ],
      "metadata": {
        "id": "EyM2mneSg0E5"
      },
      "execution_count": 73,
      "outputs": []
    },
    {
      "cell_type": "code",
      "source": [
        "btc_mini_2021 = btc.loc[totimestamp('01/01/2021'):totimestamp('01/02/2021')]\n",
        "return_btc = log_return(btc_mini_2021.Close)[1:]"
      ],
      "metadata": {
        "id": "Q8lvi5NHUY_T"
      },
      "execution_count": 74,
      "outputs": []
    },
    {
      "cell_type": "code",
      "source": [
        "plt.figure(figsize=(8,4))\n",
        "plt.plot(return_btc);\n",
        "plt.show()"
      ],
      "metadata": {
        "colab": {
          "base_uri": "https://localhost:8080/",
          "height": 278
        },
        "id": "Aqqan0o_aRL9",
        "outputId": "1a079516-4d86-4c0e-ee4e-12fa870f87c3"
      },
      "execution_count": 86,
      "outputs": [
        {
          "output_type": "display_data",
          "data": {
            "image/png": "[encoded data removed]",
            "text/plain": [
              "<Figure size 576x288 with 1 Axes>"
            ]
          },
          "metadata": {
            "needs_background": "light"
          }
        }
      ]
    },
    {
      "cell_type": "code",
      "source": [
        "upper_shadow = lambda asset: asset.High - np.maximum(asset.Close,asset.Open)\n",
        "lower_shadow = lambda asset: np.minimum(asset.Close,asset.Open)- asset.Low\n",
        "\n",
        "X_btc = pd.concat([log_return(btc.VWAP,periods=5), \n",
        "                   log_return(btc.VWAP,periods=1).abs(), \n",
        "                   upper_shadow(btc), \n",
        "                   lower_shadow(btc)], axis=1)\n",
        "\n",
        "y_btc = btc.Target\n"
      ],
      "metadata": {
        "id": "ih27TBsfakrf"
      },
      "execution_count": 76,
      "outputs": []
    },
    {
      "cell_type": "code",
      "source": [
        "train_window = [totimestamp(\"01/01/2018\"), totimestamp(\"01/02/2018\")]\n",
        "test_window = [totimestamp(\"01/02/2018\"), totimestamp(\"01/03/2018\")]\n",
        "\n",
        "X_btc_train = X_btc.loc[train_window[0]:train_window[1]].fillna(0).to_numpy()  # filling NaN's with zeros\n",
        "y_btc_train = y_btc.loc[train_window[0]:train_window[1]].fillna(0).to_numpy()  \n",
        "\n",
        "X_btc_test = X_btc.loc[test_window[0]:test_window[1]].fillna(0).to_numpy() \n",
        "y_btc_test = y_btc.loc[test_window[0]:test_window[1]].fillna(0).to_numpy() "
      ],
      "metadata": {
        "id": "KkWiqeUmdP5M"
      },
      "execution_count": 79,
      "outputs": []
    },
    {
      "cell_type": "code",
      "source": [
        "from sklearn.preprocessing import StandardScaler\n",
        "scaler = StandardScaler()\n",
        "\n",
        "X_btc_train_scaled = scaler.fit_transform(X_btc_train)\n",
        "X_btc_test_scaled = scaler.transform(X_btc_test)"
      ],
      "metadata": {
        "id": "f43ZdFcImAq-"
      },
      "execution_count": 81,
      "outputs": []
    },
    {
      "cell_type": "code",
      "source": [
        "from sklearn.linear_model import LinearRegression\n",
        "\n",
        "lr = LinearRegression()\n",
        "lr.fit(X_btc_train_scaled,y_btc_train)\n",
        "y_pred_lr_btc = lr.predict(X_btc_test_scaled)"
      ],
      "metadata": {
        "id": "PJ6alwHumZle"
      },
      "execution_count": 82,
      "outputs": []
    },
    {
      "cell_type": "code",
      "source": [
        "print('Test score for LR: BTC', f\"{np.corrcoef(y_pred_lr_btc, y_btc_test)[0,1]:.2f}\")"
      ],
      "metadata": {
        "colab": {
          "base_uri": "https://localhost:8080/"
        },
        "id": "KfOt2WszmtuS",
        "outputId": "4854062b-5e75-4d38-cb36-168632976825"
      },
      "execution_count": 84,
      "outputs": [
        {
          "output_type": "stream",
          "name": "stdout",
          "text": [
            "Test score for LR baseline: BTC 0.17\n"
          ]
        }
      ]
    }
  ]
}